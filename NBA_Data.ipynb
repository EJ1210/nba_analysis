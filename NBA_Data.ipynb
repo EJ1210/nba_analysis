{
  "nbformat": 4,
  "nbformat_minor": 0,
  "metadata": {
    "colab": {
      "name": "NBA Data.ipynb",
      "provenance": [],
      "include_colab_link": true
    },
    "kernelspec": {
      "name": "python3",
      "display_name": "Python 3"
    }
  },
  "cells": [
    {
      "cell_type": "markdown",
      "metadata": {
        "id": "view-in-github",
        "colab_type": "text"
      },
      "source": [
        "<a href=\"https://colab.research.google.com/github/EJ1210/nba_analysis/blob/master/NBA_Data.ipynb\" target=\"_parent\"><img src=\"https://colab.research.google.com/assets/colab-badge.svg\" alt=\"Open In Colab\"/></a>"
      ]
    },
    {
      "cell_type": "markdown",
      "metadata": {
        "id": "ZjaE8wxtSCr5",
        "colab_type": "text"
      },
      "source": [
        "How many players have played in the NBA?"
      ]
    },
    {
      "cell_type": "code",
      "metadata": {
        "id": "jP6unLLOS5__",
        "colab_type": "code",
        "outputId": "a62ce619-7898-4421-adeb-bebfef0822d2",
        "colab": {
          "base_uri": "https://localhost:8080/",
          "height": 35
        }
      },
      "source": [
        "import pandas as pd\n",
        "import numpy as np\n",
        "import matplotlib.pyplot as plt\n",
        "\n",
        "nba = pd.read_csv('NBAData.csv')\n",
        "\n",
        "nba.set_index('name')\n",
        "## Set the NBA Dataset index to begin with name\n",
        "\n",
        "\n",
        "players = nba['name'].nunique()\n",
        "\n",
        "## Created a variable to distinctly count the amount of players who ahave played in the NBA\n",
        "\n",
        "print(f'There have beeen {players} players who have played in the NBA from 1950 to 2017.')"
      ],
      "execution_count": 3,
      "outputs": [
        {
          "output_type": "stream",
          "text": [
            "There have beeen 3504 players who have played in the NBA from 1950 to 2017.\n"
          ],
          "name": "stdout"
        }
      ]
    },
    {
      "cell_type": "markdown",
      "metadata": {
        "id": "PblF9BWsqfGI",
        "colab_type": "text"
      },
      "source": [
        "What is the Avg Number of Seasons in the NBA?"
      ]
    },
    {
      "cell_type": "code",
      "metadata": {
        "id": "M1ay9r61pHht",
        "colab_type": "code",
        "outputId": "20c2941d-ec74-4f27-b2f7-fc822445767c",
        "colab": {
          "base_uri": "https://localhost:8080/",
          "height": 35
        }
      },
      "source": [
        "numberofseasons= nba.groupby(['name'])['name'].count()\n",
        "\n",
        "## Created a variable that counts the number of years per player.\n",
        "\n",
        "avgseasons = numberofseasons.mean()\n",
        "\n",
        "## Created a variable that finds the average number of years amoungst all NBA players\n",
        "\n",
        "avgseasons = int(avgseasons)\n",
        "\n",
        "## Casted the average from a float to an int.\n",
        "\n",
        "print(f'An NBA player plays {avgseasons} seaons on average. ')"
      ],
      "execution_count": 4,
      "outputs": [
        {
          "output_type": "stream",
          "text": [
            "An NBA player plays 6 seaons on average. \n"
          ],
          "name": "stdout"
        }
      ]
    },
    {
      "cell_type": "markdown",
      "metadata": {
        "id": "IfM18UFIuQTQ",
        "colab_type": "text"
      },
      "source": [
        ""
      ]
    },
    {
      "cell_type": "markdown",
      "metadata": {
        "id": "yVLusZMXqZ_f",
        "colab_type": "text"
      },
      "source": [
        "Who are the top ___ players who scored most points in a single season?"
      ]
    },
    {
      "cell_type": "code",
      "metadata": {
        "id": "CghQESEbq2wm",
        "colab_type": "code",
        "outputId": "4310300b-fc46-431a-bae9-9fb005d590eb",
        "colab": {
          "base_uri": "https://localhost:8080/",
          "height": 396
        }
      },
      "source": [
        "points = nba[['name','Year','PTS']]\n",
        "## Smaller Dataset to extract the players name, points, and year achieved\n",
        "\n",
        "def get_number():\n",
        "    \"\"\"\n",
        "    Gets user choice\n",
        "    \"\"\"\n",
        "\n",
        "    user__input = input('Top: ')\n",
        "    return user__input\n",
        "\n",
        "## Function for the user to input how many players they would like to see\n",
        "\n",
        "response = int(get_number())\n",
        "\n",
        "## Created a response variable to cast the user input into an int\n",
        "\n",
        "players1 = points.sort_values(by='PTS',ascending=False).drop_duplicates(['name'], keep='first')\n",
        "\n",
        "## Created variable that sorts the dataset by highest amount of points per season per player \n",
        "## and drops the remaining seasons.\n",
        "\n",
        "players11 = players1.sort_values(by=['PTS'], ascending=False).head(response).set_index('name')\n",
        "\n",
        "## Edit variable to call the top players by the user input.\n",
        "\n",
        "name_year = 'name'+' '+'Year'\n",
        "\n",
        "players1graph = players11.plot.bar(by=name_year, y= 'PTS')\n",
        "for p in players1graph.patches:\n",
        "    players1graph.annotate(str(p.get_height()), (p.get_x() * 1.005, p.get_height() * 1.005))\n",
        "## Graph the top__ on a plot.\n",
        "\n",
        "players1graph\n",
        "\n"
      ],
      "execution_count": 5,
      "outputs": [
        {
          "output_type": "stream",
          "text": [
            "Top: 10\n"
          ],
          "name": "stdout"
        },
        {
          "output_type": "execute_result",
          "data": {
            "text/plain": [
              "<matplotlib.axes._subplots.AxesSubplot at 0x7f77c1d67400>"
            ]
          },
          "metadata": {
            "tags": []
          },
          "execution_count": 5
        },
        {
          "output_type": "display_data",
          "data": {
            "image/png": "[encoded data removed]",
            "text/plain": [
              "<Figure size 432x288 with 1 Axes>"
            ]
          },
          "metadata": {
            "tags": []
          }
        }
      ]
    },
    {
      "cell_type": "markdown",
      "metadata": {
        "id": "zs0gfjp2NkfC",
        "colab_type": "text"
      },
      "source": [
        "Who are the top ___ players who scored most points ever?"
      ]
    },
    {
      "cell_type": "code",
      "metadata": {
        "id": "1_iNBdwxwg4X",
        "colab_type": "code",
        "outputId": "515866a3-16ef-4de6-ba83-ddf2e802ab65",
        "colab": {
          "base_uri": "https://localhost:8080/",
          "height": 375
        }
      },
      "source": [
        "points1 = nba[['name','PTS']].set_index('name')\n",
        "\n",
        "def get_number():\n",
        "    \"\"\"\n",
        "    Gets user choice\n",
        "    \"\"\"\n",
        "\n",
        "    user__input = input('Top: ')\n",
        "    return user__input\n",
        "\n",
        "\n",
        "response = int(get_number())\n",
        "\n",
        "\n",
        "total_points = points1.groupby('name').sum().sort_values(by=['PTS'], ascending=False).head(response)\n",
        "\n",
        "total_points\n",
        "\n",
        "total_points = total_points.plot.bar()\n",
        "for p in total_points.patches:\n",
        "    total_points.annotate(str(p.get_height()), (p.get_x() * 1.005, p.get_height() * 1.005))"
      ],
      "execution_count": 6,
      "outputs": [
        {
          "output_type": "stream",
          "text": [
            "Top: 10\n"
          ],
          "name": "stdout"
        },
        {
          "output_type": "display_data",
          "data": {
            "image/png": "[encoded data removed]",
            "text/plain": [
              "<Figure size 432x288 with 1 Axes>"
            ]
          },
          "metadata": {
            "tags": []
          }
        }
      ]
    },
    {
      "cell_type": "markdown",
      "metadata": {
        "id": "oReNkh9YQeHP",
        "colab_type": "text"
      },
      "source": [
        "Who are the best Marksmen in the NBA?"
      ]
    },
    {
      "cell_type": "code",
      "metadata": {
        "id": "rri2CaM2Qc2P",
        "colab_type": "code",
        "outputId": "a438564c-45a8-4ebf-af20-ddaf1c101e84",
        "colab": {
          "base_uri": "https://localhost:8080/",
          "height": 386
        }
      },
      "source": [
        "threepoint = nba[['name','3P','3PA','3P%']]\n",
        "\n",
        "marksmen = threepoint.groupby('name').sum().sort_values(by=['3P','3P%'], ascending=[False,False]).head(10)\n",
        "\n",
        "marksmen"
      ],
      "execution_count": 33,
      "outputs": [
        {
          "output_type": "execute_result",
          "data": {
            "text/html": [
              "<div>\n",
              "<style scoped>\n",
              "    .dataframe tbody tr th:only-of-type {\n",
              "        vertical-align: middle;\n",
              "    }\n",
              "\n",
              "    .dataframe tbody tr th {\n",
              "        vertical-align: top;\n",
              "    }\n",
              "\n",
              "    .dataframe thead th {\n",
              "        text-align: right;\n",
              "    }\n",
              "</style>\n",
              "<table border=\"1\" class=\"dataframe\">\n",
              "  <thead>\n",
              "    <tr style=\"text-align: right;\">\n",
              "      <th></th>\n",
              "      <th>3P</th>\n",
              "      <th>3PA</th>\n",
              "      <th>3P%</th>\n",
              "    </tr>\n",
              "    <tr>\n",
              "      <th>name</th>\n",
              "      <th></th>\n",
              "      <th></th>\n",
              "      <th></th>\n",
              "    </tr>\n",
              "  </thead>\n",
              "  <tbody>\n",
              "    <tr>\n",
              "      <th>Kyle Korver</th>\n",
              "      <td>2322.0</td>\n",
              "      <td>5409.0</td>\n",
              "      <td>7.697</td>\n",
              "    </tr>\n",
              "    <tr>\n",
              "      <th>Vince Carter</th>\n",
              "      <td>2292.0</td>\n",
              "      <td>6119.0</td>\n",
              "      <td>8.433</td>\n",
              "    </tr>\n",
              "    <tr>\n",
              "      <th>Tim Hardaway</th>\n",
              "      <td>2251.0</td>\n",
              "      <td>6349.0</td>\n",
              "      <td>7.400</td>\n",
              "    </tr>\n",
              "    <tr>\n",
              "      <th>Chauncey Billups</th>\n",
              "      <td>2245.0</td>\n",
              "      <td>5810.0</td>\n",
              "      <td>8.376</td>\n",
              "    </tr>\n",
              "    <tr>\n",
              "      <th>Jason Terry</th>\n",
              "      <td>2242.0</td>\n",
              "      <td>5895.0</td>\n",
              "      <td>6.832</td>\n",
              "    </tr>\n",
              "    <tr>\n",
              "      <th>Jamal Crawford</th>\n",
              "      <td>2191.0</td>\n",
              "      <td>6255.0</td>\n",
              "      <td>6.800</td>\n",
              "    </tr>\n",
              "    <tr>\n",
              "      <th>Jason Kidd</th>\n",
              "      <td>2168.0</td>\n",
              "      <td>6178.0</td>\n",
              "      <td>8.126</td>\n",
              "    </tr>\n",
              "    <tr>\n",
              "      <th>Paul Pierce</th>\n",
              "      <td>2143.0</td>\n",
              "      <td>5816.0</td>\n",
              "      <td>6.994</td>\n",
              "    </tr>\n",
              "    <tr>\n",
              "      <th>Peja Stojakovic</th>\n",
              "      <td>1979.0</td>\n",
              "      <td>4932.0</td>\n",
              "      <td>7.455</td>\n",
              "    </tr>\n",
              "    <tr>\n",
              "      <th>Jason Richardson</th>\n",
              "      <td>1926.0</td>\n",
              "      <td>5148.0</td>\n",
              "      <td>6.337</td>\n",
              "    </tr>\n",
              "  </tbody>\n",
              "</table>\n",
              "</div>"
            ],
            "text/plain": [
              "                      3P     3PA    3P%\n",
              "name                                   \n",
              "Kyle Korver       2322.0  5409.0  7.697\n",
              "Vince Carter      2292.0  6119.0  8.433\n",
              "Tim Hardaway      2251.0  6349.0  7.400\n",
              "Chauncey Billups  2245.0  5810.0  8.376\n",
              "Jason Terry       2242.0  5895.0  6.832\n",
              "Jamal Crawford    2191.0  6255.0  6.800\n",
              "Jason Kidd        2168.0  6178.0  8.126\n",
              "Paul Pierce       2143.0  5816.0  6.994\n",
              "Peja Stojakovic   1979.0  4932.0  7.455\n",
              "Jason Richardson  1926.0  5148.0  6.337"
            ]
          },
          "metadata": {
            "tags": []
          },
          "execution_count": 33
        }
      ]
    },
    {
      "cell_type": "markdown",
      "metadata": {
        "id": "jy-vVhOBoCoV",
        "colab_type": "text"
      },
      "source": [
        "Who is the Greatest of all time?"
      ]
    },
    {
      "cell_type": "code",
      "metadata": {
        "id": "cae4O7CGRoez",
        "colab_type": "code",
        "outputId": "3a2354f4-c267-41aa-aa00-7d4fd7c6f0f5",
        "colab": {
          "base_uri": "https://localhost:8080/",
          "height": 35
        }
      },
      "source": [
        "class Player:\n",
        "  def __init__(self, name, position, height, PTS):\n",
        "   self.name = name\n",
        "   self.position = position\n",
        "   self.height = height\n",
        "   self.PTS = PTS\n",
        "\n",
        "p1 = Player('Micheal Jordan', 'G', '6-6', '32,292')\n",
        "\n",
        "print(f'The greatest player of all time is {p1.name}.')"
      ],
      "execution_count": 9,
      "outputs": [
        {
          "output_type": "stream",
          "text": [
            "The greatest player of all time is Micheal Jordan.\n"
          ],
          "name": "stdout"
        }
      ]
    },
    {
      "cell_type": "markdown",
      "metadata": {
        "id": "wHPyhSDiqsFl",
        "colab_type": "text"
      },
      "source": [
        "What is ___________ stat line?"
      ]
    },
    {
      "cell_type": "code",
      "metadata": {
        "id": "Tt_bo1DwrA2t",
        "colab_type": "code",
        "outputId": "274eea50-7668-4dc2-ceb5-c51d55538dc4",
        "colab": {
          "base_uri": "https://localhost:8080/",
          "height": 52
        }
      },
      "source": [
        "import pandas as pd\n",
        "import numpy as np\n",
        "import matplotlib.pyplot as plt\n",
        "\n",
        "nba = pd.read_csv('NBAData.csv')\n",
        "\n",
        "points2 = nba[['name', 'PTS']]\n",
        "points2 = points2.set_index('name').groupby('name').sum().sort_values(by=['PTS'], ascending=False)\n",
        "points2 = points2.T.to_dict('list')\n",
        "\n",
        "\n",
        "player = input('Players First & Last Name: ')\n",
        "\n",
        "print(f'{player} has scored {points2[player]} career points.')"
      ],
      "execution_count": 10,
      "outputs": [
        {
          "output_type": "stream",
          "text": [
            "Players First & Last Name: Kevin Durant\n",
            "Kevin Durant has scored [19121] career points.\n"
          ],
          "name": "stdout"
        }
      ]
    }
  ]
}